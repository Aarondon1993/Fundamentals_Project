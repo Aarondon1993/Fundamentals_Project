{
 "cells": [
  {
   "attachments": {
    "image.png": {
     "image/png": "[encoded data removed]"
    }
   },
   "cell_type": "markdown",
   "metadata": {},
   "source": [
    "![image.png](attachment:image.png)"
   ]
  },
  {
   "cell_type": "markdown",
   "metadata": {},
   "source": [
    "# Fundamentals of Data Analysis Project- Linear Regression"
   ]
  },
  {
   "cell_type": "markdown",
   "metadata": {},
   "source": [
    "## Aaron Donnelly- G00299531\n",
    "***"
   ]
  },
  {
   "cell_type": "markdown",
   "metadata": {},
   "source": [
    "### Introduction"
   ]
  },
  {
   "cell_type": "markdown",
   "metadata": {},
   "source": [
    "##### Linear Regression is a "
   ]
  },
  {
   "cell_type": "code",
   "execution_count": 55,
   "metadata": {
    "scrolled": true
   },
   "outputs": [
    {
     "data": {
      "text/plain": [
       "array([98.26078686])"
      ]
     },
     "execution_count": 55,
     "metadata": {},
     "output_type": "execute_result"
    }
   ],
   "source": [
    "import numpy as np\n",
    "import pandas as pd\n",
    "import matplotlib.pyplot as plt\n",
    "from sklearn.model_selection import train_test_split\n",
    "from sklearn import linear_model\n",
    "pd.set_option('display.max_rows', None)\n",
    "df= pd.read_csv('https://raw.githubusercontent.com/ianmcloughlin/2020A-machstat-project/master/dataset/powerproduction.csv')\n",
    "\n",
    "\n",
    "x= df ['speed']\n",
    "y= df ['power']\n",
    "\n",
    "reg=linear_model.LinearRegression()\n",
    "\n",
    "\n",
    "x_train, x_test, y_train, y_test= train_test_split(x, y, test_size= 0.2, random_state=4)\n",
    "\n",
    "x_train= x_train.values.reshape(-1,1).astype(float)\n",
    "y_train= y_train.values.reshape(-1,1).astype(float)\n",
    "x_test= x_test.values.reshape(-1,1).astype(float)\n",
    "y_test= y_test.values.reshape(-1,1).astype(float)\n",
    "reg.fit(x_train,y_train)\n",
    "reg.coef_\n",
    "\n",
    "a= reg.predict(x_test)\n",
    "a[8]"
   ]
  },
  {
   "cell_type": "code",
   "execution_count": 54,
   "metadata": {},
   "outputs": [
    {
     "data": {
      "text/plain": [
       "array([[5.30000e+00],\n",
       "       [8.47100e+00],\n",
       "       [5.34700e+00],\n",
       "       [6.72690e+01],\n",
       "       [0.00000e+00],\n",
       "       [9.56220e+01],\n",
       "       [1.03500e+00],\n",
       "       [9.72560e+01],\n",
       "       [1.00558e+02],\n",
       "       [5.24100e+00],\n",
       "       [9.29000e-01],\n",
       "       [6.65600e+00],\n",
       "       [0.00000e+00],\n",
       "       [5.40790e+01],\n",
       "       [3.71590e+01],\n",
       "       [9.36940e+01],\n",
       "       [5.53900e+00],\n",
       "       [0.00000e+00],\n",
       "       [6.33830e+01],\n",
       "       [3.00000e+00],\n",
       "       [4.50560e+01],\n",
       "       [9.15010e+01],\n",
       "       [1.48500e+00],\n",
       "       [7.24500e+00],\n",
       "       [2.89400e+00],\n",
       "       [1.01308e+02],\n",
       "       [1.04800e+00],\n",
       "       [5.94700e+00],\n",
       "       [9.60580e+01],\n",
       "       [2.96010e+01],\n",
       "       [2.08500e+00],\n",
       "       [1.53500e+00],\n",
       "       [6.18400e+00],\n",
       "       [9.71730e+01],\n",
       "       [9.24610e+01],\n",
       "       [9.40600e+00],\n",
       "       [9.58690e+01],\n",
       "       [9.71480e+01],\n",
       "       [3.13360e+01],\n",
       "       [1.02644e+02],\n",
       "       [9.75230e+01],\n",
       "       [0.00000e+00],\n",
       "       [2.76880e+01],\n",
       "       [0.00000e+00],\n",
       "       [2.71360e+01],\n",
       "       [1.01342e+02],\n",
       "       [9.29970e+01],\n",
       "       [9.42700e+01],\n",
       "       [7.95000e-01],\n",
       "       [6.32650e+01],\n",
       "       [9.35240e+01],\n",
       "       [9.48500e+01],\n",
       "       [4.33400e+00],\n",
       "       [5.68200e+00],\n",
       "       [9.65920e+01],\n",
       "       [6.70000e-02],\n",
       "       [1.53940e+01],\n",
       "       [7.97200e+01],\n",
       "       [3.81840e+01],\n",
       "       [4.45400e+00],\n",
       "       [8.04180e+01],\n",
       "       [1.36570e+01],\n",
       "       [1.62600e+00],\n",
       "       [9.76710e+01],\n",
       "       [5.18600e+00],\n",
       "       [2.16700e+00],\n",
       "       [9.97000e-01],\n",
       "       [4.59500e+00],\n",
       "       [6.81900e+00],\n",
       "       [1.56380e+01],\n",
       "       [8.72850e+01],\n",
       "       [1.00549e+02],\n",
       "       [8.12390e+01],\n",
       "       [2.70100e+00],\n",
       "       [9.27530e+01],\n",
       "       [9.74600e+00],\n",
       "       [1.03306e+02],\n",
       "       [0.00000e+00],\n",
       "       [9.14910e+01],\n",
       "       [2.23050e+01],\n",
       "       [6.49100e+00],\n",
       "       [8.93700e+00],\n",
       "       [8.77410e+01],\n",
       "       [1.13000e-01],\n",
       "       [2.22160e+01],\n",
       "       [9.88550e+01],\n",
       "       [3.86360e+01],\n",
       "       [8.61600e+00],\n",
       "       [7.95860e+01],\n",
       "       [1.00937e+02],\n",
       "       [2.69270e+01],\n",
       "       [6.23150e+01],\n",
       "       [1.11200e+01],\n",
       "       [7.20160e+01],\n",
       "       [4.61360e+01],\n",
       "       [7.97400e+00],\n",
       "       [7.83000e+00],\n",
       "       [6.65500e+01],\n",
       "       [1.90700e+00],\n",
       "       [6.92400e+01]])"
      ]
     },
     "execution_count": 54,
     "metadata": {},
     "output_type": "execute_result"
    }
   ],
   "source": [
    "y_test"
   ]
  },
  {
   "cell_type": "code",
   "execution_count": 58,
   "metadata": {},
   "outputs": [
    {
     "data": {
      "text/plain": [
       "476.00254178330135"
      ]
     },
     "execution_count": 58,
     "metadata": {},
     "output_type": "execute_result"
    }
   ],
   "source": [
    "import numpy as np\n",
    "np.mean((a-y_test)**2)"
   ]
  }
 ],
 "metadata": {
  "kernelspec": {
   "display_name": "Python 3",
   "language": "python",
   "name": "python3"
  },
  "language_info": {
   "codemirror_mode": {
    "name": "ipython",
    "version": 3
   },
   "file_extension": ".py",
   "mimetype": "text/x-python",
   "name": "python",
   "nbconvert_exporter": "python",
   "pygments_lexer": "ipython3",
   "version": "3.7.4"
  }
 },
 "nbformat": 4,
 "nbformat_minor": 2
}
